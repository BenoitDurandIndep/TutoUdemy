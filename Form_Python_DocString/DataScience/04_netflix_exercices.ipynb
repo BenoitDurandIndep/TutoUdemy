{
 "cells": [
  {
   "cell_type": "markdown",
   "metadata": {},
   "source": [
    "Exercices à partir du fichier netflix_titles.csv"
   ]
  },
  {
   "cell_type": "code",
   "execution_count": 1,
   "metadata": {},
   "outputs": [],
   "source": [
    "import pandas as pd\n",
    "df=pd.read_csv(\"netflix_titles.csv\")"
   ]
  },
  {
   "cell_type": "markdown",
   "metadata": {},
   "source": [
    "Comment récupérer les trois pays qui ont le plus de films présents sur Netflix à partir du fichier CSV ?"
   ]
  },
  {
   "cell_type": "code",
   "execution_count": 9,
   "metadata": {},
   "outputs": [
    {
     "data": {
      "text/plain": [
       "{'United States': 2555, 'India': 923, 'United Kingdom': 397}"
      ]
     },
     "execution_count": 9,
     "metadata": {},
     "output_type": "execute_result"
    }
   ],
   "source": [
    "df[\"country\"].value_counts().sort_values(ascending=False)[0:3].to_dict()"
   ]
  },
  {
   "cell_type": "markdown",
   "metadata": {},
   "source": [
    "Comment récupérer le nombre de films produits par année à partir du fichier CSV de Netflix et de la colonne release_year ?"
   ]
  },
  {
   "cell_type": "code",
   "execution_count": 16,
   "metadata": {},
   "outputs": [
    {
     "data": {
      "text/plain": [
       "2021      31\n",
       "2020     868\n",
       "2019     996\n",
       "2018    1121\n",
       "2017    1012\n",
       "        ... \n",
       "1945       3\n",
       "1944       3\n",
       "1943       3\n",
       "1942       2\n",
       "1925       1\n",
       "Name: release_year, Length: 73, dtype: int64"
      ]
     },
     "execution_count": 16,
     "metadata": {},
     "output_type": "execute_result"
    }
   ],
   "source": [
    "df[\"release_year\"].value_counts().sort_index(ascending=False).to_dict()"
   ]
  },
  {
   "cell_type": "markdown",
   "metadata": {},
   "source": [
    "Comment récupérer la liste de tous les réalisateurs (sans doublons) à partir du fichier CSV de Netflix ?"
   ]
  },
  {
   "cell_type": "code",
   "execution_count": 23,
   "metadata": {},
   "outputs": [
    {
     "data": {
      "text/plain": [
       "['Jorge Michel Grau',\n",
       " 'Gilbert Chan',\n",
       " 'Shane Acker',\n",
       " 'Robert Luketic',\n",
       " 'Serdar Akar',\n",
       " 'Yasir Al Yasiri',\n",
       " 'Kevin Reynolds',\n",
       " 'Shravan Kumar',\n",
       " 'Vikram Bhatt',\n",
       " 'Zak Hilditch']"
      ]
     },
     "execution_count": 23,
     "metadata": {},
     "output_type": "execute_result"
    }
   ],
   "source": [
    "df_dir=df[df[\"director\"].notnull()]\n",
    "df_dir[\"director\"].unique()[:10].tolist()\n",
    "#Solution : \n",
    "# df.director.dropna().unique()[:10].tolist()"
   ]
  },
  {
   "cell_type": "markdown",
   "metadata": {},
   "source": [
    "Comment récupérer la durée moyenne des films présents dans le jeu de données Netflix ?"
   ]
  },
  {
   "cell_type": "code",
   "execution_count": 33,
   "metadata": {},
   "outputs": [
    {
     "name": "stderr",
     "output_type": "stream",
     "text": [
      "C:\\Users\\hebus\\AppData\\Local\\Temp\\ipykernel_22300\\1752156519.py:2: UserWarning: Pandas doesn't allow columns to be created via a new attribute name - see https://pandas.pydata.org/pandas-docs/stable/indexing.html#attribute-access\n",
      "  df_movie.duration_float=(df_movie[\"duration\"].apply(lambda x: x.replace(\" min\", \"\"))).astype(float)\n"
     ]
    },
    {
     "data": {
      "text/plain": [
       "99.30797842663195"
      ]
     },
     "execution_count": 33,
     "metadata": {},
     "output_type": "execute_result"
    }
   ],
   "source": [
    "df_movie=df[df[\"type\"]==\"Movie\"]\n",
    "df_movie.duration_float=(df_movie[\"duration\"].apply(lambda x: x.replace(\" min\", \"\"))).astype(float)\n",
    "df_movie.duration_float.mean()\n",
    "\n",
    "#Solution :\n",
    "#df_duration = df[df[\"duration\"].str.contains(\"min\")][\"duration\"]\n",
    "#df_duration.str.replace(\" min\", \"\").map(int).mean()"
   ]
  }
 ],
 "metadata": {
  "kernelspec": {
   "display_name": "Python 3.9.7 ('.env': venv)",
   "language": "python",
   "name": "python3"
  },
  "language_info": {
   "codemirror_mode": {
    "name": "ipython",
    "version": 3
   },
   "file_extension": ".py",
   "mimetype": "text/x-python",
   "name": "python",
   "nbconvert_exporter": "python",
   "pygments_lexer": "ipython3",
   "version": "3.9.7"
  },
  "orig_nbformat": 4,
  "vscode": {
   "interpreter": {
    "hash": "c3b5a199a182ebf9f3453547870cbec6bc73c7643a667e082e0748ea862f6853"
   }
  }
 },
 "nbformat": 4,
 "nbformat_minor": 2
}
